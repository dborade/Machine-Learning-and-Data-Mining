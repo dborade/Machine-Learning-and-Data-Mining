{
 "cells": [
  {
   "cell_type": "markdown",
   "metadata": {},
   "source": [
    "# Linear regression model"
   ]
  },
  {
   "cell_type": "code",
   "execution_count": 1,
   "metadata": {},
   "outputs": [],
   "source": [
    "import numpy as np \n",
    "import time\n",
    "from matplotlib import pyplot as plt\n",
    "import seaborn as sns\n",
    "%matplotlib inline"
   ]
  },
  {
   "cell_type": "code",
   "execution_count": 2,
   "metadata": {},
   "outputs": [],
   "source": [
    "#let's create a deta set with \"years\" as X and \"salary\" as y\n",
    "#there is a linear relationship between X and y\n",
    "\n",
    "years = np.arange(0,40,0.5)\n",
    "np.random.seed(0)\n",
    "salary = 45000+np.sqrt(years)*16789 +np.random.normal(2000,10000,len(years))\n"
   ]
  },
  {
   "cell_type": "code",
   "execution_count": 3,
   "metadata": {},
   "outputs": [
    {
     "name": "stdout",
     "output_type": "stream",
     "text": [
      "(80, 2)\n",
      "[[1.  0. ]\n",
      " [1.  0.5]\n",
      " [1.  1. ]]\n"
     ]
    }
   ],
   "source": [
    "y=np.array(salary)\n",
    "\n",
    "#convert X to a nX2 matrix, n is the number samples, and the first column of X is 1\n",
    "X = np.array(years)\n",
    "\n",
    "#Create a ones vector\n",
    "ones = np.ones((X.shape[0],1))\n",
    "\n",
    "#add ones to the first vector/column in X \n",
    "X = np.reshape(X, (X.shape[0],1))\n",
    "X = np.concatenate((ones,X),axis=1)\n",
    "\n",
    "\n",
    "print(X.shape)\n",
    "print(X[0:3, :])"
   ]
  },
  {
   "cell_type": "code",
   "execution_count": 5,
   "metadata": {},
   "outputs": [],
   "source": [
    "def vectorized_calculate_SSE(theta):\n",
    "    #Calculate SSE without using for or any loop structure\n",
    "    #Use numpy's .dot() for matrix multiplication only\n",
    "\n",
    "    return sum((y - X.dot(theta))**2)\n",
    "\n",
    "def vectorized_update_theta(theta, gamma):\n",
    "    gradient=[0,0]\n",
    "    \n",
    "    #Calculate gradient without using for or any loop structure\n",
    "    #Use numpy's .dot() for matrix multiplication only\n",
    "    \n",
    "    gradient[0] = -2*sum(y - X.dot(theta))\n",
    "    gradient[1] = -2*sum((y - X.dot(theta)).dot(X))\n",
    "    return  [theta[0]-gamma*gradient[0], theta[1]-gamma*gradient[1]]\n",
    "\n",
    "def vectorized_adaptive_optimum(theta, gamma, t, precision):\n",
    "    #infinite loop if no \"return\" is executed \n",
    "    while True:\n",
    "        #decrease gamma in every iteration\n",
    "        gamma *=t\n",
    "        \n",
    "        #store SSE \n",
    "        old_SSE = vectorized_calculate_SSE(theta)\n",
    "        \n",
    "        #update theta for a small number of time\n",
    "        for i in range(10):\n",
    "            temp_theta =vectorized_update_theta(theta, gamma) \n",
    "        \n",
    "        #get the new SSE\n",
    "        new_SSE = vectorized_calculate_SSE(temp_theta)\n",
    "        \n",
    "        # if SSE is thrinking, go to the next iteration and try a smaller gamma\n",
    "        if new_SSE > old_SSE:  \n",
    "            continue\n",
    "        \n",
    "        # if SEE does converge\n",
    "        else:\n",
    "            # try a large iteration to see if gamma can be found\n",
    "            for i in range(100000):\n",
    "                \n",
    "                #update theta and calculate new SSE\n",
    "                theta =vectorized_update_theta(theta, gamma) \n",
    "                new_SSE = vectorized_calculate_SSE(theta)\n",
    "                \n",
    "                #if the update is within the prcision \n",
    "                if abs(old_SSE - new_SSE) < precision:\n",
    "                    \n",
    "                    #print out the result and return to the function call\n",
    "                    print(\"found minimum cost: \\t\", new_SSE)\n",
    "                    print(\"the optimum theta: \\t\", theta)\n",
    "                    print(\"the learning rate is: \\t\", gamma)\n",
    "                    return theta"
   ]
  },
  {
   "cell_type": "code",
   "execution_count": 6,
   "metadata": {},
   "outputs": [
    {
     "name": "stdout",
     "output_type": "stream",
     "text": [
      "found minimum cost: \t 7684735996.848081\n",
      "the optimum theta: \t [79958.20399183946, 1864.8714513134214]\n",
      "the learning rate is: \t 1.9363259789051322e-05\n",
      "the calculation takes  3.0049588680267334  seconds.\n"
     ]
    }
   ],
   "source": [
    "#initiate theta\n",
    "init_theta=[1,1]\n",
    "\n",
    "#start from a large learning rate\n",
    "gamma = 1\n",
    "\n",
    "#the decrease rate of gamma \n",
    "t=0.9\n",
    "\n",
    "#the precision for stopping the search. 1 unit is a $1\n",
    "precision =1\n",
    "\n",
    "#print out the time used for computing\n",
    "start_time = time.time()\n",
    "\n",
    "#call the vectorized function\n",
    "\n",
    "theta = vectorized_adaptive_optimum(init_theta,gamma,t,precision)\n",
    "print(\"the calculation takes \", time.time()-start_time, \" seconds.\")"
   ]
  },
  {
   "cell_type": "code",
   "execution_count": 8,
   "metadata": {},
   "outputs": [
    {
     "data": {
      "image/png": "[encoded data removed]",
      "text/plain": [
       "<Figure size 432x288 with 1 Axes>"
      ]
     },
     "metadata": {
      "needs_background": "light"
     },
     "output_type": "display_data"
    }
   ],
   "source": [
    "#plot the prediction line\n",
    "\n",
    "plt.title(\"Experience vs. Salary\")\n",
    "plt.xlabel('Years of Experience (Years)')\n",
    "plt.ylabel('Salary ($)')\n",
    "plt.grid(True)\n",
    "plt.xlim(0,40)\n",
    "plt.ylim(45000,180000)\n",
    "plt.scatter(years, salary)\n",
    "plt.plot(X,79958.20399183946 + 1864.8714513134214*X,color=\"Red\" )\n",
    "plt.show()"
   ]
  },
  {
   "cell_type": "code",
   "execution_count": null,
   "metadata": {},
   "outputs": [],
   "source": []
  }
 ],
 "metadata": {
  "kernelspec": {
   "display_name": "Python 3",
   "language": "python",
   "name": "python3"
  },
  "language_info": {
   "codemirror_mode": {
    "name": "ipython",
    "version": 3
   },
   "file_extension": ".py",
   "mimetype": "text/x-python",
   "name": "python",
   "nbconvert_exporter": "python",
   "pygments_lexer": "ipython3",
   "version": "3.7.1"
  }
 },
 "nbformat": 4,
 "nbformat_minor": 2
}
