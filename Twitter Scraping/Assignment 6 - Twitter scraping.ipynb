{
 "cells": [
  {
   "cell_type": "markdown",
   "metadata": {},
   "source": [
    "# Scraping real time data from Twitter to analyze trends"
   ]
  },
  {
   "cell_type": "code",
   "execution_count": 1,
   "metadata": {},
   "outputs": [
    {
     "name": "stdout",
     "output_type": "stream",
     "text": [
      "Requirement already satisfied: twython in c:\\users\\darshana\\anaconda3\\lib\\site-packages (3.7.0)\n",
      "Requirement already satisfied: requests>=2.1.0 in c:\\users\\darshana\\anaconda3\\lib\\site-packages (from twython) (2.21.0)\n",
      "Requirement already satisfied: requests-oauthlib>=0.4.0 in c:\\users\\darshana\\anaconda3\\lib\\site-packages (from twython) (1.2.0)\n",
      "Requirement already satisfied: certifi>=2017.4.17 in c:\\users\\darshana\\anaconda3\\lib\\site-packages (from requests>=2.1.0->twython) (2018.11.29)\n",
      "Requirement already satisfied: urllib3<1.25,>=1.21.1 in c:\\users\\darshana\\anaconda3\\lib\\site-packages (from requests>=2.1.0->twython) (1.24.1)\n",
      "Requirement already satisfied: chardet<3.1.0,>=3.0.2 in c:\\users\\darshana\\anaconda3\\lib\\site-packages (from requests>=2.1.0->twython) (3.0.4)\n",
      "Requirement already satisfied: idna<2.9,>=2.5 in c:\\users\\darshana\\anaconda3\\lib\\site-packages (from requests>=2.1.0->twython) (2.8)\n",
      "Requirement already satisfied: oauthlib>=3.0.0 in c:\\users\\darshana\\anaconda3\\lib\\site-packages (from requests-oauthlib>=0.4.0->twython) (3.0.1)\n"
     ]
    }
   ],
   "source": [
    "!pip install twython\n"
   ]
  },
  {
   "cell_type": "code",
   "execution_count": 2,
   "metadata": {},
   "outputs": [],
   "source": [
    "from twython import Twython\n",
    "\n",
    "App_key = 'Sei4pFak1oXKYMtD5sdR51JMG'\n",
    "App_secret = 'PW0rEoJjPCcE4iIf4USVPw1kTIMrZt1MQ4LCSIs7tSSktuG6nu'\n",
    "Oauth_token = '888213350085251072-9B0I3RuXvEx1bMF6MPnCspkdtSEY63e'\n",
    "Oauth_token_secret = 'Ki5Pmfn6CxqeO8LiwHUhYiEMXkqx0tLOlWGYsRBzAaATX'\n",
    "\n",
    "twitter = Twython(App_key,App_secret,Oauth_token,Oauth_token_secret)"
   ]
  },
  {
   "cell_type": "code",
   "execution_count": 3,
   "metadata": {},
   "outputs": [],
   "source": [
    "from twython import TwythonStreamer"
   ]
  },
  {
   "cell_type": "code",
   "execution_count": 4,
   "metadata": {},
   "outputs": [],
   "source": [
    "tweets=[]\n",
    "class MyStreamer(TwythonStreamer):\n",
    "    def on_success(self, data):\n",
    "        if data['user']['lang'] == 'en':\n",
    "            tweets.append(data)\n",
    "            print(\"received tweet #\", len(tweets))\n",
    "        if len(tweets) >= 100:\n",
    "            self.disconnect()\n",
    "    def on_error(self, status_code, data):\n",
    "        print(status_code, data)\n",
    "        self.disconnect()"
   ]
  },
  {
   "cell_type": "code",
   "execution_count": 5,
   "metadata": {},
   "outputs": [
    {
     "name": "stdout",
     "output_type": "stream",
     "text": [
      "received tweet # 1\n",
      "received tweet # 2\n",
      "received tweet # 3\n",
      "received tweet # 4\n",
      "received tweet # 5\n",
      "received tweet # 6\n",
      "received tweet # 7\n",
      "received tweet # 8\n",
      "received tweet # 9\n",
      "received tweet # 10\n",
      "received tweet # 11\n",
      "received tweet # 12\n",
      "received tweet # 13\n",
      "received tweet # 14\n",
      "received tweet # 15\n",
      "received tweet # 16\n",
      "received tweet # 17\n",
      "received tweet # 18\n",
      "received tweet # 19\n",
      "received tweet # 20\n",
      "received tweet # 21\n",
      "received tweet # 22\n",
      "received tweet # 23\n",
      "received tweet # 24\n",
      "received tweet # 25\n",
      "received tweet # 26\n",
      "received tweet # 27\n",
      "received tweet # 28\n",
      "received tweet # 29\n",
      "received tweet # 30\n",
      "received tweet # 31\n",
      "received tweet # 32\n",
      "received tweet # 33\n",
      "received tweet # 34\n",
      "received tweet # 35\n",
      "received tweet # 36\n",
      "received tweet # 37\n",
      "received tweet # 38\n",
      "received tweet # 39\n",
      "received tweet # 40\n",
      "received tweet # 41\n",
      "received tweet # 42\n",
      "received tweet # 43\n",
      "received tweet # 44\n",
      "received tweet # 45\n",
      "received tweet # 46\n",
      "received tweet # 47\n",
      "received tweet # 48\n",
      "received tweet # 49\n",
      "received tweet # 50\n",
      "received tweet # 51\n",
      "received tweet # 52\n",
      "received tweet # 53\n",
      "received tweet # 54\n",
      "received tweet # 55\n",
      "received tweet # 56\n",
      "received tweet # 57\n",
      "received tweet # 58\n",
      "received tweet # 59\n",
      "received tweet # 60\n",
      "received tweet # 61\n",
      "received tweet # 62\n",
      "received tweet # 63\n",
      "received tweet # 64\n",
      "received tweet # 65\n",
      "received tweet # 66\n",
      "received tweet # 67\n",
      "received tweet # 68\n",
      "received tweet # 69\n",
      "received tweet # 70\n",
      "received tweet # 71\n",
      "received tweet # 72\n",
      "received tweet # 73\n",
      "received tweet # 74\n",
      "received tweet # 75\n",
      "received tweet # 76\n",
      "received tweet # 77\n",
      "received tweet # 78\n",
      "received tweet # 79\n",
      "received tweet # 80\n",
      "received tweet # 81\n",
      "received tweet # 82\n",
      "received tweet # 83\n",
      "received tweet # 84\n",
      "received tweet # 85\n",
      "received tweet # 86\n",
      "received tweet # 87\n",
      "received tweet # 88\n",
      "received tweet # 89\n",
      "received tweet # 90\n",
      "received tweet # 91\n",
      "received tweet # 92\n",
      "received tweet # 93\n",
      "received tweet # 94\n",
      "received tweet # 95\n",
      "received tweet # 96\n",
      "received tweet # 97\n",
      "received tweet # 98\n",
      "received tweet # 99\n",
      "received tweet # 100\n"
     ]
    }
   ],
   "source": [
    "#Tweets by the search 'nytimes'\n",
    "stream = MyStreamer(App_key,App_secret,Oauth_token,Oauth_token_secret)\n",
    "stream.statuses.filter(track='@nytimes')"
   ]
  },
  {
   "cell_type": "code",
   "execution_count": 12,
   "metadata": {},
   "outputs": [],
   "source": [
    "#Let's check the relationship between followers ad friends count for the user\n",
    "followers_list = []\n",
    "friends_list = []\n",
    "for i in range (len(tweets)):\n",
    "    followers_list.append(tweets[i]['user']['followers_count'])\n",
    "    friends_list.append(tweets[i]['user']['friends_count'])\n",
    "    "
   ]
  },
  {
   "cell_type": "code",
   "execution_count": 14,
   "metadata": {},
   "outputs": [],
   "source": [
    "import pandas as pd\n",
    "\n",
    "x = pd.DataFrame(friends_list)\n",
    "y = pd.DataFrame(followers_list)"
   ]
  },
  {
   "cell_type": "code",
   "execution_count": 36,
   "metadata": {},
   "outputs": [
    {
     "data": {
      "text/plain": [
       "<matplotlib.axes._subplots.AxesSubplot at 0x152e69b1470>"
      ]
     },
     "execution_count": 36,
     "metadata": {},
     "output_type": "execute_result"
    },
    {
     "data": {
      "image/png": "[encoded data removed]",
      "text/plain": [
       "<Figure size 432x288 with 1 Axes>"
      ]
     },
     "metadata": {
      "needs_background": "light"
     },
     "output_type": "display_data"
    }
   ],
   "source": [
    "import seaborn as sns\n",
    "\n",
    "sns.distplot(x, color = 'blue',bins = 50,hist = True)"
   ]
  },
  {
   "cell_type": "code",
   "execution_count": 35,
   "metadata": {},
   "outputs": [
    {
     "data": {
      "text/plain": [
       "<matplotlib.axes._subplots.AxesSubplot at 0x152e5956f28>"
      ]
     },
     "execution_count": 35,
     "metadata": {},
     "output_type": "execute_result"
    },
    {
     "data": {
      "image/png": "[encoded data removed]",
      "text/plain": [
       "<Figure size 432x288 with 1 Axes>"
      ]
     },
     "metadata": {
      "needs_background": "light"
     },
     "output_type": "display_data"
    }
   ],
   "source": [
    "sns.distplot(y, color = 'red',bins=50,hist =True)"
   ]
  },
  {
   "cell_type": "markdown",
   "metadata": {},
   "source": [
    "\n",
    "# We can observe that there are less friends than followers"
   ]
  },
  {
   "cell_type": "code",
   "execution_count": null,
   "metadata": {},
   "outputs": [],
   "source": []
  },
  {
   "cell_type": "code",
   "execution_count": null,
   "metadata": {},
   "outputs": [],
   "source": []
  }
 ],
 "metadata": {
  "kernelspec": {
   "display_name": "Python 3",
   "language": "python",
   "name": "python3"
  },
  "language_info": {
   "codemirror_mode": {
    "name": "ipython",
    "version": 3
   },
   "file_extension": ".py",
   "mimetype": "text/x-python",
   "name": "python",
   "nbconvert_exporter": "python",
   "pygments_lexer": "ipython3",
   "version": "3.7.1"
  }
 },
 "nbformat": 4,
 "nbformat_minor": 2
}
