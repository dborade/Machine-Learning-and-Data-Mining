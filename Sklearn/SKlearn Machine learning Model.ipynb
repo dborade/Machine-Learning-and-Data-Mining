{
 "cells": [
  {
   "cell_type": "code",
   "execution_count": 2,
   "metadata": {},
   "outputs": [],
   "source": [
    "#import the needed packages\n",
    "import numpy as np\n",
    "import pandas as pd\n",
    "from matplotlib import pyplot as plt\n",
    "import seaborn as sns\n",
    "%matplotlib inline"
   ]
  },
  {
   "cell_type": "code",
   "execution_count": 3,
   "metadata": {},
   "outputs": [
    {
     "data": {
      "text/html": [
       "<div>\n",
       "<style scoped>\n",
       "    .dataframe tbody tr th:only-of-type {\n",
       "        vertical-align: middle;\n",
       "    }\n",
       "\n",
       "    .dataframe tbody tr th {\n",
       "        vertical-align: top;\n",
       "    }\n",
       "\n",
       "    .dataframe thead th {\n",
       "        text-align: right;\n",
       "    }\n",
       "</style>\n",
       "<table border=\"1\" class=\"dataframe\">\n",
       "  <thead>\n",
       "    <tr style=\"text-align: right;\">\n",
       "      <th></th>\n",
       "      <th>CRM</th>\n",
       "      <th>CloudDrive</th>\n",
       "      <th>ERP</th>\n",
       "      <th>Expenses</th>\n",
       "      <th>HR1</th>\n",
       "      <th>HR2</th>\n",
       "      <th>ITOps</th>\n",
       "      <th>OTHER</th>\n",
       "      <th>Recruiting</th>\n",
       "      <th>Webmail</th>\n",
       "      <th>RemoteAccess</th>\n",
       "    </tr>\n",
       "  </thead>\n",
       "  <tbody>\n",
       "    <tr>\n",
       "      <th>0</th>\n",
       "      <td>49</td>\n",
       "      <td>99</td>\n",
       "      <td>17</td>\n",
       "      <td>38</td>\n",
       "      <td>0</td>\n",
       "      <td>0</td>\n",
       "      <td>18</td>\n",
       "      <td>144</td>\n",
       "      <td>33</td>\n",
       "      <td>141</td>\n",
       "      <td>283</td>\n",
       "    </tr>\n",
       "    <tr>\n",
       "      <th>1</th>\n",
       "      <td>107</td>\n",
       "      <td>148</td>\n",
       "      <td>28</td>\n",
       "      <td>54</td>\n",
       "      <td>0</td>\n",
       "      <td>0</td>\n",
       "      <td>38</td>\n",
       "      <td>188</td>\n",
       "      <td>30</td>\n",
       "      <td>213</td>\n",
       "      <td>430</td>\n",
       "    </tr>\n",
       "    <tr>\n",
       "      <th>2</th>\n",
       "      <td>639</td>\n",
       "      <td>796</td>\n",
       "      <td>221</td>\n",
       "      <td>216</td>\n",
       "      <td>0</td>\n",
       "      <td>0</td>\n",
       "      <td>133</td>\n",
       "      <td>1175</td>\n",
       "      <td>297</td>\n",
       "      <td>579</td>\n",
       "      <td>732</td>\n",
       "    </tr>\n",
       "    <tr>\n",
       "      <th>3</th>\n",
       "      <td>653</td>\n",
       "      <td>767</td>\n",
       "      <td>203</td>\n",
       "      <td>191</td>\n",
       "      <td>0</td>\n",
       "      <td>0</td>\n",
       "      <td>139</td>\n",
       "      <td>1475</td>\n",
       "      <td>308</td>\n",
       "      <td>549</td>\n",
       "      <td>738</td>\n",
       "    </tr>\n",
       "    <tr>\n",
       "      <th>4</th>\n",
       "      <td>670</td>\n",
       "      <td>738</td>\n",
       "      <td>196</td>\n",
       "      <td>140</td>\n",
       "      <td>0</td>\n",
       "      <td>0</td>\n",
       "      <td>128</td>\n",
       "      <td>1111</td>\n",
       "      <td>305</td>\n",
       "      <td>678</td>\n",
       "      <td>781</td>\n",
       "    </tr>\n",
       "  </tbody>\n",
       "</table>\n",
       "</div>"
      ],
      "text/plain": [
       "   CRM  CloudDrive  ERP  Expenses  HR1  HR2  ITOps  OTHER  Recruiting  \\\n",
       "0   49          99   17        38    0    0     18    144          33   \n",
       "1  107         148   28        54    0    0     38    188          30   \n",
       "2  639         796  221       216    0    0    133   1175         297   \n",
       "3  653         767  203       191    0    0    139   1475         308   \n",
       "4  670         738  196       140    0    0    128   1111         305   \n",
       "\n",
       "   Webmail  RemoteAccess  \n",
       "0      141           283  \n",
       "1      213           430  \n",
       "2      579           732  \n",
       "3      549           738  \n",
       "4      678           781  "
      ]
     },
     "execution_count": 3,
     "metadata": {},
     "output_type": "execute_result"
    }
   ],
   "source": [
    "# read in app_usage data into vpn_df\n",
    "vpn_df= pd.read_csv(\"app_usage.csv\")\n",
    "vpn_df.head(5)\n"
   ]
  },
  {
   "cell_type": "code",
   "execution_count": 4,
   "metadata": {},
   "outputs": [
    {
     "name": "stdout",
     "output_type": "stream",
     "text": [
      "(91, 11)\n",
      "Index(['CRM', 'CloudDrive', 'ERP', 'Expenses', 'HR1', 'HR2', 'ITOps', 'OTHER',\n",
      "       'Recruiting', 'Webmail', 'RemoteAccess'],\n",
      "      dtype='object')\n",
      "   CRM  CloudDrive  ERP  Expenses  HR1  HR2  ITOps  OTHER  Recruiting  \\\n",
      "0   49          99   17        38    0    0     18    144          33   \n",
      "1  107         148   28        54    0    0     38    188          30   \n",
      "2  639         796  221       216    0    0    133   1175         297   \n",
      "3  653         767  203       191    0    0    139   1475         308   \n",
      "4  670         738  196       140    0    0    128   1111         305   \n",
      "\n",
      "   Webmail  RemoteAccess  \n",
      "0      141           283  \n",
      "1      213           430  \n",
      "2      579           732  \n",
      "3      549           738  \n",
      "4      678           781  \n"
     ]
    }
   ],
   "source": [
    "#oberve the data\n",
    "#RemoteAccess is the target, we will build a model that \n",
    "#takes all other columns as X to predict remote VPN usage\n",
    "\n",
    "#look at the shape of the dataframe\n",
    "print(vpn_df.shape)\n",
    "\n",
    "#look at the column names\n",
    "print(vpn_df.columns)\n",
    "\n",
    "#show the first 5 records\n",
    "print(vpn_df.head(5))"
   ]
  },
  {
   "cell_type": "code",
   "execution_count": 5,
   "metadata": {},
   "outputs": [
    {
     "data": {
      "text/plain": [
       "[Text(0, 0.5, 'Numbers'), Text(0.5, 0, 'VPN Access')]"
      ]
     },
     "execution_count": 5,
     "metadata": {},
     "output_type": "execute_result"
    },
    {
     "data": {
      "image/png": "[encoded data removed]",
      "text/plain": [
       "<Figure size 432x288 with 1 Axes>"
      ]
     },
     "metadata": {
      "needs_background": "light"
     },
     "output_type": "display_data"
    }
   ],
   "source": [
    "# Visualizing the distribtuion of Remote VPN Access\n",
    "ax = sns.distplot(vpn_df['RemoteAccess'], bins =10, kde = False)\n",
    "ax.set(xlabel=\"VPN Access\", ylabel=\"Numbers\")"
   ]
  },
  {
   "cell_type": "code",
   "execution_count": 6,
   "metadata": {},
   "outputs": [
    {
     "data": {
      "text/plain": [
       "<matplotlib.axes._subplots.AxesSubplot at 0x246b223dc88>"
      ]
     },
     "execution_count": 6,
     "metadata": {},
     "output_type": "execute_result"
    },
    {
     "data": {
      "image/png": "[encoded data removed]",
      "text/plain": [
       "<Figure size 576x432 with 2 Axes>"
      ]
     },
     "metadata": {
      "needs_background": "light"
     },
     "output_type": "display_data"
    }
   ],
   "source": [
    "# Visualize the correlation heatmap\n",
    "corrmat = vpn_df.corr()\n",
    "f, ax = plt.subplots(figsize=(8,6))\n",
    "# Draw the heatmap using seaborn\n",
    "sns.heatmap(corrmat, vmax=.8, square=True, annot= True)\n",
    "#f.tight_layout()"
   ]
  },
  {
   "cell_type": "markdown",
   "metadata": {},
   "source": [
    "### Target variable has continuous distribution so this is Linear regression problem therefore using Linear Regression model would be a better choice"
   ]
  },
  {
   "cell_type": "code",
   "execution_count": 7,
   "metadata": {},
   "outputs": [],
   "source": [
    "from sklearn import linear_model"
   ]
  },
  {
   "cell_type": "code",
   "execution_count": 8,
   "metadata": {},
   "outputs": [],
   "source": [
    "#The function takes X, y and retrun the trained model and R squared\n",
    "def train_model(X,y):\n",
    "    model = linear_model.LinearRegression()\n",
    "    model.fit(X, y)\n",
    "    R_2 = model.score(X,y)\n",
    "    return model, R_2\n",
    "#create a function to calculate Adjusted R_square\n",
    "# n is the number of sample, p is the number features\n",
    "def cal_adjusted_R(R_2, p, n):\n",
    "    R_adjusted = R_2-(1-R_2)*(p/(n-p-1))\n",
    "    return R_adjusted"
   ]
  },
  {
   "cell_type": "code",
   "execution_count": 9,
   "metadata": {},
   "outputs": [
    {
     "name": "stdout",
     "output_type": "stream",
     "text": [
      "CRM 0.9030603942302714\n",
      "CloudDrive 0.8932567722424455\n",
      "ERP 0.7904301126742891\n",
      "Expenses 0.6232665636003503\n",
      "HR1 0.015308027253735923\n",
      "HR2 0.41428585591006056\n",
      "ITOps 0.7566204951691912\n",
      "OTHER 0.3268756160241405\n",
      "Recruiting 0.24953322751414383\n",
      "Webmail 0.8847819743305698\n",
      "The order of index numbers are : \t [0 1 9 2 6 3 5 7 8 4]\n"
     ]
    }
   ],
   "source": [
    "#R_2_array stores the R squared of all the features\n",
    "R_2_array = np.array([])\n",
    "\n",
    "#Calcuate the R_squared \n",
    "for col_name in vpn_df.columns:\n",
    "    if col_name == 'RemoteAccess':\n",
    "        continue\n",
    "    else:   \n",
    "        #extract the feature column from dataset\n",
    "        X_feature = vpn_df[[col_name]]\n",
    "        \n",
    "        #Target variable\n",
    "        target = vpn_df[['RemoteAccess']]\n",
    "        \n",
    "        #call the train_model with X, y\n",
    "        model, R_2 = train_model(X_feature, target)\n",
    "        \n",
    "        #print R Squared\n",
    "        print(col_name, R_2)\n",
    "        \n",
    "        #Save the R Squared value to an array\n",
    "        R_2_array = np.append(R_2_array, R_2)        \n",
    "\n",
    "################################################################\n",
    "## sorted_R_2_index stores the index numbers of R_2_array   ####\n",
    "## in descending order of the R_2 values                    ####        \n",
    "sorted_R_2_index = np.argsort(R_2_array)[::-1]       \n",
    "#################################################################\n",
    "\n",
    "\n",
    "#print out the sorted indexes \n",
    "print(\"The order of index numbers are : \\t\", sorted_R_2_index)"
   ]
  },
  {
   "cell_type": "code",
   "execution_count": 10,
   "metadata": {},
   "outputs": [
    {
     "name": "stdout",
     "output_type": "stream",
     "text": [
      "['CRM']\n",
      "R2:  0.9030603942302714 \t Ajusted R2:  0.901971185176679 \n",
      "\n",
      "['CRM', 'CloudDrive']\n",
      "R2:  0.9074773125587101 \t Ajusted R2:  0.9053745242077718 \n",
      "\n",
      "['CRM', 'CloudDrive', 'Webmail']\n",
      "R2:  0.9169720723523399 \t Ajusted R2:  0.9141090403644896 \n",
      "\n",
      "['CRM', 'CloudDrive', 'Webmail', 'ERP']\n",
      "R2:  0.9243104820063341 \t Ajusted R2:  0.9207900393089543 \n",
      "\n",
      "['CRM', 'CloudDrive', 'Webmail', 'ERP', 'ITOps']\n",
      "R2:  0.9245040709947892 \t Ajusted R2:  0.9200631339944826 \n",
      "\n",
      "['CRM', 'CloudDrive', 'Webmail', 'ERP', 'ITOps', 'Expenses']\n",
      "R2:  0.9261180813990765 \t Ajusted R2:  0.9208408014990105 \n",
      "\n",
      "['CRM', 'CloudDrive', 'Webmail', 'ERP', 'ITOps', 'Expenses', 'HR2']\n",
      "R2:  0.9268374090661093 \t Ajusted R2:  0.9206670700716848 \n",
      "\n",
      "['CRM', 'CloudDrive', 'Webmail', 'ERP', 'ITOps', 'Expenses', 'HR2', 'OTHER']\n",
      "R2:  0.9303318238786104 \t Ajusted R2:  0.9235349286472553 \n",
      "\n",
      "['CRM', 'CloudDrive', 'Webmail', 'ERP', 'ITOps', 'Expenses', 'HR2', 'OTHER', 'Recruiting']\n",
      "R2:  0.9305073579887443 \t Ajusted R2:  0.922785953320827 \n",
      "\n",
      "['CRM', 'CloudDrive', 'Webmail', 'ERP', 'ITOps', 'Expenses', 'HR2', 'OTHER', 'Recruiting', 'HR1']\n",
      "R2:  0.9392847759700534 \t Ajusted R2:  0.9316953729663101 \n",
      "\n"
     ]
    }
   ],
   "source": [
    "#gradually build up our model and add R squared and adjusted R to the output\n",
    "\n",
    "for i in range(len(sorted_R_2_index)):\n",
    "    \n",
    "    #the selected_features should be the top i most associated features\n",
    "    selected_features = []\n",
    "    \n",
    "    #take the top 1 to ith features as X\n",
    "    for j in range(i+1):\n",
    "        \n",
    "            #append a new column based on the sorted R value\n",
    "            #take your time to digist this line\n",
    "            selected_features.append(vpn_df.columns[sorted_R_2_index[j]])\n",
    "            \n",
    "    #verify we got the right features\n",
    "    print(selected_features)\n",
    "    \n",
    "    # X\n",
    "    X_feature = vpn_df[selected_features]\n",
    "    \n",
    "    # y\n",
    "    target = vpn_df[['RemoteAccess']]\n",
    "    \n",
    "    # train the model\n",
    "    model, R_2 = train_model(X_feature, target)\n",
    "    \n",
    "    #calculate adjusted R\n",
    "    R_adjusted = cal_adjusted_R(R_2, i+1, vpn_df.shape[0])\n",
    "    \n",
    "    #print the output\n",
    "    print(\"R2: \", R_2, \"\\t Ajusted R2: \", R_adjusted, \"\\n\")"
   ]
  },
  {
   "cell_type": "code",
   "execution_count": 11,
   "metadata": {},
   "outputs": [
    {
     "name": "stdout",
     "output_type": "stream",
     "text": [
      "Intercept: \n",
      " 168.76868273498098\n",
      "Coefficients: \n",
      " [ 0.78030166  0.02552479 -0.3614915  -0.22380617 -0.14305536 -0.02601244\n",
      " -0.14498212 -0.01503002  0.02986555  0.32726658]\n",
      "R_squared: \n",
      " 0.9392847759700534\n"
     ]
    }
   ],
   "source": [
    "#let's build the model with all the features\n",
    "\n",
    "y = vpn_df['RemoteAccess']\n",
    "X = vpn_df.drop('RemoteAccess', 1)\n",
    "\n",
    "from sklearn import linear_model\n",
    "\n",
    "#create a linear regression model from linear_model package \n",
    "model=linear_model.LinearRegression()\n",
    "\n",
    "#Train the model with our data (X, y)\n",
    "model.fit(X,y)\n",
    "\n",
    "#Display the parameters\n",
    "print('Intercept: \\n', model.intercept_)\n",
    "print('Coefficients: \\n', model.coef_)\n",
    "\n",
    "#use R squared to see how much variation is explained by the trained model\n",
    "print('R_squared: \\n', model.score(X,y))"
   ]
  },
  {
   "cell_type": "markdown",
   "metadata": {},
   "source": [
    "### According to article of abbottanalytics I will remove features CRM, CloudDrive, ERP, HR1, HR2, Other and Recruiting.\n",
    "### CRM , CloudDrive and ERP are highly correlated with each other and also with features like ITops and Webmail, so it makes sense to remove them\n",
    "### HR1, HR2, Other and Recruiting are less correlated with target feature i.e. RemoteAccess, so we can remove these features as well."
   ]
  },
  {
   "cell_type": "code",
   "execution_count": 12,
   "metadata": {},
   "outputs": [],
   "source": [
    "#Removing features as explained above.\n",
    "X = vpn_df.drop(['HR1','HR2','OTHER','Recruiting','CRM','CloudDrive','ERP'],axis=1)"
   ]
  },
  {
   "cell_type": "code",
   "execution_count": 19,
   "metadata": {},
   "outputs": [
    {
     "name": "stdout",
     "output_type": "stream",
     "text": [
      "The best R of my 3-feature model is:\t\t 0.9999377924151738\n",
      "The alpha I used in Lasso to find my model is: \t 0.2\n"
     ]
    }
   ],
   "source": [
    "# 2. we use Lasso to further penalize models with more features\n",
    "from sklearn.linear_model import Lasso\n",
    "\n",
    "# in Lasso, the score is still R squared \n",
    "best_score = []\n",
    "\n",
    "# Lasso has a parameter alpha used to adjust the level of penalizing the \n",
    "# number of features. A bigger alpha will produce less features. \n",
    "# We initiate the best alpha to 0 \n",
    "best_alpha = []\n",
    "\n",
    "# let's fine tune alpha to find the model we need \n",
    "for alpha in np.linspace(1,0.2, 1000):\n",
    "    \n",
    "    #create a linear regression (Lasso) model from linear_model package \n",
    "    model=Lasso(alpha=alpha,normalize=True, max_iter=1e5)\n",
    "\n",
    "    #Train the model with our data (X, y)\n",
    "    model.fit(X,y)\n",
    "    best_score.append(model.score(X,y))\n",
    "    best_alpha.append(alpha)\n",
    "            \n",
    "best_of_R_score = max(best_score)\n",
    "index_of_best =  best_score.index(best_of_R_score)\n",
    "print(\"The best R of my 3-feature model is:\\t\\t\", best_of_R_score)\n",
    "print(\"The alpha I used in Lasso to find my model is: \\t\", best_alpha[index_of_best])\n",
    "\n",
    "    #use R squared to see how much variation is explained by the trained model\n",
    "    #print('R_squared: \\n', model.score(X,y))"
   ]
  },
  {
   "cell_type": "code",
   "execution_count": 20,
   "metadata": {},
   "outputs": [
    {
     "name": "stdout",
     "output_type": "stream",
     "text": [
      "My summary: According to article of abbottanalytics I will remove features CRM, CloudDrive, ERP, HR1, HR2, Other and Recruiting.CRM , CloudDrive and ERP are highly correlated with each other and also with features like ITops and Webmail, so it makes sense to remove them HR1, HR2, Other and Recruiting are less correlated with target feature i.e. RemoteAccess, so we can remove these features as well.         \n",
      "the 3 features in my model are: Expenses, ITOps, Webmail  \n"
     ]
    }
   ],
   "source": [
    "##### Write your summary here\n",
    "print(\"My summary: According to article of abbottanalytics I will remove features CRM, CloudDrive, ERP, HR1, HR2, Other and Recruiting.CRM , CloudDrive and ERP are highly correlated with each other and also with features like ITops and Webmail, so it makes sense to remove them HR1, HR2, Other and Recruiting are less correlated with target feature i.e. RemoteAccess, so we can remove these features as well.         \")\n",
    "print(\"the 3 features in my model are: Expenses, ITOps, Webmail  \")"
   ]
  },
  {
   "cell_type": "code",
   "execution_count": null,
   "metadata": {},
   "outputs": [],
   "source": []
  }
 ],
 "metadata": {
  "kernelspec": {
   "display_name": "Python 3",
   "language": "python",
   "name": "python3"
  },
  "language_info": {
   "codemirror_mode": {
    "name": "ipython",
    "version": 3
   },
   "file_extension": ".py",
   "mimetype": "text/x-python",
   "name": "python",
   "nbconvert_exporter": "python",
   "pygments_lexer": "ipython3",
   "version": "3.7.1"
  }
 },
 "nbformat": 4,
 "nbformat_minor": 2
}
